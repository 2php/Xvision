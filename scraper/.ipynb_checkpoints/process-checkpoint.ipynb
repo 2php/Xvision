{
 "cells": [
  {
   "cell_type": "markdown",
   "metadata": {
    "collapsed": true
   },
   "source": [
    "\n",
    "### Loading datas.json"
   ]
  },
  {
   "cell_type": "code",
   "execution_count": 1,
   "metadata": {
    "collapsed": false
   },
   "outputs": [
    {
     "name": "stdout",
     "output_type": "stream",
     "text": [
      "7469\n"
     ]
    }
   ],
   "source": [
    "import json\n",
    "from pprint import pprint\n",
    "\n",
    "dic = {}\n",
    "with open('datas.json') as data_file:\n",
    "    data = json.load(data_file)\n",
    "    lst = []\n",
    "    n=0\n",
    "    print len(data)\n",
    "    for  i in data:\n",
    "        # print i\n",
    "        dic[i] = \"/\".join(data[i]['items'])\n",
    "\n",
    "        \n"
   ]
  },
  {
   "cell_type": "markdown",
   "metadata": {},
   "source": [
    "### Labeling the data and forming a distionary"
   ]
  },
  {
   "cell_type": "code",
   "execution_count": 2,
   "metadata": {
    "collapsed": false
   },
   "outputs": [],
   "source": [
    "c=0\n",
    "st=\"\"\n",
    "new_dict={}\n",
    "check = [\"normal\",\"opacity\", \"cardiomegaly\",\"calcinosis\", \"lung/hypoinflation\",\"calcified granuloma\",\"thoracic vertebrae/degenerative\", \"lung/hyperdistention\", \"spine/degenerative \",\"catheters, indwelling\", \"granulomatous disease\", \"nodule\",\"surgical instruments\",\"scoliosis\", \"spondylosis\"]\n",
    "for j in dic:\n",
    "#     print dic[j]\n",
    "    #     st = st + j\n",
    "    for i in check:\n",
    "\n",
    "        if i in dic[j].lower():\n",
    "            st+=i\n",
    "#             if i==\"nodule\":\n",
    "#                 st=\"nodule\"\n",
    "#                 break\n",
    "        \n",
    "    if st == \"\":\n",
    "        st += \"missing\"\n",
    "    new_dict[j] = st\n",
    "    \n",
    "    st=\"\"\n",
    "    \n",
    "#     if \"opacity\" in dic[j].lower():\n",
    "#         print dic[j].lower()\n",
    "#         c+=1\n",
    "# print c\n",
    "# print new_dict"
   ]
  },
  {
   "cell_type": "markdown",
   "metadata": {},
   "source": [
    "### Calculate unique combinations of above diseases"
   ]
  },
  {
   "cell_type": "code",
   "execution_count": 3,
   "metadata": {
    "collapsed": false,
    "scrolled": true
   },
   "outputs": [
    {
     "name": "stdout",
     "output_type": "stream",
     "text": [
      "187\n"
     ]
    }
   ],
   "source": [
    "from collections import Counter\n",
    "c = Counter( (new_dict.values()) )\n",
    "\n",
    "# print c.items()\n",
    "c.items().sort(key=lambda x: x[0])\n",
    "c = dict(c)\n",
    "print len(c)"
   ]
  },
  {
   "cell_type": "markdown",
   "metadata": {},
   "source": [
    "### The dictionary is sorted according to number of cases in each disease."
   ]
  },
  {
   "cell_type": "code",
   "execution_count": 6,
   "metadata": {
    "collapsed": false
   },
   "outputs": [],
   "source": [
    "from operator import itemgetter\n",
    "sort = sorted(c.items(), key=itemgetter(1))\n",
    "# print sort[-40:]\n",
    "# print sort"
   ]
  },
  {
   "cell_type": "code",
   "execution_count": 7,
   "metadata": {
    "collapsed": false
   },
   "outputs": [
    {
     "name": "stdout",
     "output_type": "stream",
     "text": [
      "[('cardiomegaly', 271), ('opacity', 374), ('normal', 2697)]\n"
     ]
    }
   ],
   "source": [
    "labels = sorted([i for i in sort[-4:] if i[0]!=\"missing\"], key=lambda x: x[1])\n",
    "print labels"
   ]
  },
  {
   "cell_type": "markdown",
   "metadata": {},
   "source": [
    "### Dictionary with list of indexes of every disease."
   ]
  },
  {
   "cell_type": "code",
   "execution_count": 8,
   "metadata": {
    "collapsed": false
   },
   "outputs": [],
   "source": [
    "from collections import defaultdict\n",
    "\n",
    "index_list = defaultdict(list)\n",
    "\n",
    "for key, value in new_dict.iteritems():\n",
    "    index_list[value].append(key)\n"
   ]
  },
  {
   "cell_type": "markdown",
   "metadata": {},
   "source": [
    "### Training and testing dictionary are made with label required."
   ]
  },
  {
   "cell_type": "code",
   "execution_count": 9,
   "metadata": {
    "collapsed": false
   },
   "outputs": [],
   "source": [
    "\n",
    "train_images_dict = {}\n",
    "test_images_dict={}\n",
    "for  i in index_list:\n",
    "#     print i\n",
    "    if i== \"normal\":\n",
    "        train_images_dict[\"normal\"]=index_list[i][400:500]\n",
    "        test_images_dict[\"normal\"] = index_list[i][500:550]\n",
    "#     elif i==\"opacity\":\n",
    "#         train_images_dict[\"abnormal\"]=index_list[i][:354]\n",
    "#         test_images_dict[\"abnormal\"] = index_list[i][354:374]\n",
    "#     elif i==\"cardiomegaly\":\n",
    "#         train_images_dict[\"abnormal\"]=index_list[i][:251]\n",
    "#         test_images_dict[\"abnormal\"] = index_list[i][251:266]\n",
    "#     elif i==\"lung/hypoinflation\":\n",
    "#         train_images_dict[\"abnormal\"]=index_list[i][:229]\n",
    "#         test_images_dict[\"abnormal\"] = index_list[i][229:249]\n",
    "#     elif i==\"calcified granuloma\":\n",
    "#         train_images_dict[\"abnormal\"]+=index_list[i][:243]\n",
    "#         test_images_dict[\"abnormal\"] += index_list[i][243:263]\n",
    "#     elif i==\"thoracic vertebrae/degenerative\":\n",
    "#         train_images_dict[\"abnormal\"]+=index_list[i][:218]\n",
    "#         test_images_dict[\"abnormal\"] += index_list[i][218:238]\n",
    "#     elif i==\"lung/hyperdistention\":\n",
    "#         train_images_dict[\"abnormal\"]+=index_list[i][:190]\n",
    "#         test_images_dict[\"abnormal\"] += index_list[i][190:210]\n",
    "#     elif i==\"surgical instruments\":\n",
    "#         train_images_dict[\"abnormal\"]+=index_list[i][:71]\n",
    "#         test_images_dict[\"abnormal\"] += index_list[i][71:86]\n",
    "#     elif i==\"catheters, indwelling\":\n",
    "#         train_images_dict[\"abnormal\"]+=index_list[i][:100]\n",
    "#         test_images_dict[\"abnormal\"] += index_list[i][100:112] \n",
    "#     elif i==\"calcinosis\":\n",
    "#         train_images_dict[\"abnormal\"]+=index_list[i][:146]\n",
    "#         test_images_dict[\"abnormal\"] += index_list[i][146:166] \n",
    "    \n",
    "    elif i==\"nodule\" :\n",
    "        train_images_dict[i]=index_list[i][:54]\n",
    "        test_images_dict[i] = index_list[i][49:]\n",
    "    elif i==\"calcinosisnodule\":\n",
    "        train_images_dict[\"nodule\"]+=index_list[i][:23]\n",
    "        test_images_dict[\"nodule\"] += index_list[i][23:]\n",
    "    "
   ]
  },
  {
   "cell_type": "code",
   "execution_count": 10,
   "metadata": {
    "collapsed": false
   },
   "outputs": [
    {
     "data": {
      "text/plain": [
       "50"
      ]
     },
     "execution_count": 10,
     "metadata": {},
     "output_type": "execute_result"
    }
   ],
   "source": [
    "len(test_images_dict[\"normal\"])"
   ]
  },
  {
   "cell_type": "markdown",
   "metadata": {},
   "source": [
    "### Encoding the classes"
   ]
  },
  {
   "cell_type": "code",
   "execution_count": 11,
   "metadata": {
    "collapsed": false
   },
   "outputs": [
    {
     "name": "stdout",
     "output_type": "stream",
     "text": [
      "{'nodule': 1, 'normal': 0}\n"
     ]
    }
   ],
   "source": [
    "# c=0\n",
    "# label_dict = {}\n",
    "# for i in labels[-1::-1]:\n",
    "# #     print i[0]\n",
    "#     label_dict[i[0]] = c\n",
    "#     c+=1\n",
    "label_dict = {\"normal\":0,\"nodule\":1}\n",
    "print label_dict"
   ]
  },
  {
   "cell_type": "code",
   "execution_count": 12,
   "metadata": {
    "collapsed": false
   },
   "outputs": [
    {
     "name": "stdout",
     "output_type": "stream",
     "text": [
      "{'nodule': array([ 0.,  1.]), 'normal': array([ 1.,  0.])}\n"
     ]
    }
   ],
   "source": [
    "import numpy as np\n",
    "label_index={}\n",
    "for i in label_dict:\n",
    "    a = np.zeros(2)\n",
    "    a[label_dict[i]]=1\n",
    "    label_index[i] = a\n",
    "print label_index\n"
   ]
  },
  {
   "cell_type": "code",
   "execution_count": 13,
   "metadata": {
    "collapsed": false
   },
   "outputs": [
    {
     "name": "stdout",
     "output_type": "stream",
     "text": [
      "nodule\n",
      "[ 0.  1.]\n",
      "normal\n",
      "[ 1.  0.]\n"
     ]
    }
   ],
   "source": [
    "for i in label_index:\n",
    "    print i\n",
    "    print label_index[i]"
   ]
  },
  {
   "cell_type": "code",
   "execution_count": 14,
   "metadata": {
    "collapsed": true
   },
   "outputs": [],
   "source": [
    "new_image_dict={}\n",
    "for i in new_dict:\n",
    "    if new_dict[i] in label_index.keys():\n",
    "        new_image_dict[i] = label_index[new_dict[i]]"
   ]
  },
  {
   "cell_type": "code",
   "execution_count": 15,
   "metadata": {
    "collapsed": true
   },
   "outputs": [],
   "source": [
    "new_image_dict={}\n",
    "for i in new_dict:\n",
    "    if new_dict[i] ==\"normal\":\n",
    "        new_image_dict[i] = np.array([1,0])\n",
    "    else:\n",
    "        new_image_dict[i] = np.array([0,1])"
   ]
  },
  {
   "cell_type": "code",
   "execution_count": 16,
   "metadata": {
    "collapsed": false
   },
   "outputs": [
    {
     "name": "stdout",
     "output_type": "stream",
     "text": [
      "7469\n"
     ]
    }
   ],
   "source": [
    "print len(new_image_dict)"
   ]
  },
  {
   "cell_type": "code",
   "execution_count": 17,
   "metadata": {
    "collapsed": false
   },
   "outputs": [],
   "source": [
    "import shutil,os\n",
    "os.chdir('/home/ayush/Documents/xray')"
   ]
  },
  {
   "cell_type": "code",
   "execution_count": 18,
   "metadata": {
    "collapsed": false
   },
   "outputs": [
    {
     "name": "stdout",
     "output_type": "stream",
     "text": [
      "177\n"
     ]
    }
   ],
   "source": [
    "#trainign image list\n",
    "train_list=[]\n",
    "test_list=[]\n",
    "for  i in train_images_dict:\n",
    "    train_list +=train_images_dict[i]\n",
    "for  i in test_images_dict:\n",
    "    test_list +=test_images_dict[i]\n",
    "print len(train_list)"
   ]
  },
  {
   "cell_type": "code",
   "execution_count": 20,
   "metadata": {
    "collapsed": false
   },
   "outputs": [],
   "source": [
    "from random import shuffle\n",
    "\n",
    "shuffle(train_list)\n",
    "shuffle(test_list)\n",
    "\n",
    "# for  i in train_list:\n",
    "#     print new_dict[i]\n",
    "# for i in train_list:\n",
    "#     print new_dict[i]"
   ]
  },
  {
   "cell_type": "code",
   "execution_count": 42,
   "metadata": {
    "collapsed": false
   },
   "outputs": [
    {
     "data": {
      "text/plain": [
       "76"
      ]
     },
     "execution_count": 42,
     "metadata": {},
     "output_type": "execute_result"
    }
   ],
   "source": [
    "len(test_list)"
   ]
  },
  {
   "cell_type": "markdown",
   "metadata": {
    "collapsed": false
   },
   "source": [
    "### Folder with all training images is formed."
   ]
  },
  {
   "cell_type": "code",
   "execution_count": 45,
   "metadata": {
    "collapsed": false
   },
   "outputs": [
    {
     "name": "stdout",
     "output_type": "stream",
     "text": [
      "6451\n",
      "2822\n",
      "823\n",
      "6810\n",
      "878\n",
      "1956\n",
      "5208\n",
      "3601\n",
      "5265\n",
      "4064\n",
      "1559\n",
      "3647\n",
      "1328\n",
      "4236\n",
      "5502\n",
      "4450\n",
      "2371\n",
      "3646\n",
      "6331\n",
      "3439\n",
      "6700\n",
      "4143\n",
      "7297\n",
      "3605\n",
      "952\n",
      "5263\n",
      "1092\n",
      "2038\n",
      "1400\n",
      "869\n",
      "2501\n",
      "590\n",
      "2686\n",
      "599\n",
      "7296\n",
      "445\n",
      "5416\n",
      "5902\n",
      "5415\n",
      "6457\n",
      "4458\n",
      "7292\n",
      "1013\n",
      "1463\n",
      "5596\n",
      "3431\n",
      "6455\n",
      "3672\n",
      "5503\n",
      "311\n",
      "1370\n",
      "954\n",
      "822\n",
      "1730\n",
      "7120\n",
      "6293\n",
      "955\n",
      "6450\n",
      "1661\n",
      "1700\n",
      "4144\n",
      "1323\n",
      "1808\n",
      "1405\n",
      "1558\n",
      "6330\n",
      "4622\n",
      "1699\n",
      "6811\n",
      "3049\n",
      "4842\n",
      "4691\n",
      "4457\n",
      "3602\n",
      "3433\n",
      "1542\n",
      "1729\n",
      "2800\n",
      "5483\n",
      "868\n",
      "879\n",
      "4693\n",
      "4234\n",
      "1737\n",
      "1203\n",
      "4578\n",
      "4964\n",
      "4214\n",
      "3548\n",
      "1099\n",
      "596\n",
      "4235\n",
      "827\n",
      "442\n",
      "1091\n",
      "2502\n",
      "310\n",
      "2674\n",
      "4844\n",
      "7293\n",
      "6452\n",
      "826\n",
      "5780\n",
      "4577\n",
      "4928\n",
      "4238\n",
      "3296\n",
      "4237\n",
      "717\n",
      "3957\n",
      "2799\n",
      "4893\n",
      "2143\n",
      "4892\n",
      "3389\n",
      "2305\n",
      "3549\n",
      "4972\n",
      "5590\n",
      "4063\n",
      "591\n",
      "2296\n",
      "1662\n",
      "3048\n",
      "1660\n",
      "5419\n",
      "5482\n",
      "443\n",
      "7147\n",
      "5264\n",
      "444\n",
      "3606\n",
      "5209\n",
      "5595\n",
      "1329\n",
      "3294\n",
      "874\n",
      "3434\n",
      "3040\n",
      "3041\n",
      "1204\n",
      "3673\n",
      "4841\n",
      "4692\n",
      "6372\n",
      "6373\n",
      "5901\n",
      "6292\n",
      "1322\n",
      "4594\n",
      "6456\n",
      "2297\n",
      "4621\n",
      "2673\n",
      "4230\n",
      "4927\n",
      "3956\n",
      "2687\n",
      "4215\n",
      "1371\n",
      "2304\n",
      "953\n",
      "5418\n",
      "2144\n",
      "4212\n",
      "1663\n",
      "1406\n",
      "4213\n",
      "2372\n",
      "1957\n",
      "6459\n",
      "6458\n",
      "6909\n",
      "867\n",
      "6699\n",
      "7148\n",
      "4060\n"
     ]
    }
   ],
   "source": [
    "#copy training data\n",
    "c=0\n",
    "train_label={}\n",
    "\n",
    "os.mkdir(\"/home/ayush/Documents/xray/DeepLearning/final_train_images_calc_nodule_only\")\n",
    "for i in train_list:\n",
    "#     print i\n",
    "    \n",
    "    shutil.copy('/home/ayush/Documents/xray/DeepLearning/images/'+i+'.png', '/home/ayush/Documents/xray/DeepLearning/final_train_images_calc_nodule_only/'+str(c)+'.png')\n",
    "    train_label[c] = new_image_dict[i]\n",
    "    c+=1"
   ]
  },
  {
   "cell_type": "code",
   "execution_count": 46,
   "metadata": {
    "collapsed": false
   },
   "outputs": [
    {
     "name": "stdout",
     "output_type": "stream",
     "text": [
      "177\n"
     ]
    }
   ],
   "source": [
    "print len(train_label)"
   ]
  },
  {
   "cell_type": "markdown",
   "metadata": {},
   "source": [
    "### Folder with all testing images in made\n",
    "\n"
   ]
  },
  {
   "cell_type": "code",
   "execution_count": 47,
   "metadata": {
    "collapsed": false
   },
   "outputs": [],
   "source": [
    "#copy teasting data\n",
    "c=0\n",
    "test_label={}\n",
    "os.mkdir(\"/home/ayush/Documents/xray/DeepLearning/final_test_images_calc_nodule_only\")\n",
    "for i in test_list:\n",
    "    shutil.copy('/home/ayush/Documents/xray/DeepLearning/images/'+i+'.png', '/home/ayush/Documents/xray/DeepLearning/final_test_images_calc_nodule_only/'+str(c)+'.png')\n",
    "    test_label[c] = new_image_dict[i]\n",
    "    c+=1"
   ]
  },
  {
   "cell_type": "markdown",
   "metadata": {
    "collapsed": true
   },
   "source": [
    "### All the training and testing labels are stored as Pickled files."
   ]
  },
  {
   "cell_type": "code",
   "execution_count": 52,
   "metadata": {
    "collapsed": false
   },
   "outputs": [],
   "source": [
    "import pickle\n",
    "import numpy as np\n",
    "filename = \"training_labels_calc_nodule_only\"\n",
    "# filename = \"testing_labels_calc_nodule_only\"\n",
    "\n",
    "fileObject = open(filename,'wb') \n",
    "pickle.dump(np.array(train_label.values()),fileObject)\n",
    "fileObject.close()"
   ]
  },
  {
   "cell_type": "code",
   "execution_count": null,
   "metadata": {
    "collapsed": true
   },
   "outputs": [],
   "source": []
  },
  {
   "cell_type": "code",
   "execution_count": null,
   "metadata": {
    "collapsed": true
   },
   "outputs": [],
   "source": []
  }
 ],
 "metadata": {
  "kernelspec": {
   "display_name": "Python 2",
   "language": "python",
   "name": "python2"
  },
  "language_info": {
   "codemirror_mode": {
    "name": "ipython",
    "version": 2
   },
   "file_extension": ".py",
   "mimetype": "text/x-python",
   "name": "python",
   "nbconvert_exporter": "python",
   "pygments_lexer": "ipython2",
   "version": "2.7.10"
  }
 },
 "nbformat": 4,
 "nbformat_minor": 1
}
